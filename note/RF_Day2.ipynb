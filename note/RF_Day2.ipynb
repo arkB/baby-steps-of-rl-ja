{
  "nbformat": 4,
  "nbformat_minor": 0,
  "metadata": {
    "colab": {
      "name": "RF_Day2.ipynb",
      "version": "0.3.2",
      "provenance": [],
      "collapsed_sections": [],
      "include_colab_link": true
    },
    "kernelspec": {
      "name": "python3",
      "display_name": "Python 3"
    }
  },
  "cells": [
    {
      "cell_type": "markdown",
      "metadata": {
        "id": "view-in-github",
        "colab_type": "text"
      },
      "source": [
        "<a href=\"https://colab.research.google.com/github/arkB/baby-steps-of-rl-ja/blob/master/note/RF_Day2.ipynb\" target=\"_parent\"><img src=\"https://colab.research.google.com/assets/colab-badge.svg\" alt=\"Open In Colab\"/></a>"
      ]
    },
    {
      "metadata": {
        "id": "atpDrlyjNfzi",
        "colab_type": "code",
        "colab": {}
      },
      "cell_type": "code",
      "source": [
        "def V(s, gamma=0.99):\n",
        "  V = R(s) + gamma * max_V_on_next_state(s)\n",
        "  return V\n",
        "\n",
        "def R(s):\n",
        "  if s == \"happy_end\":\n",
        "    return 1\n",
        "  elif s == \"bad_end\":\n",
        "    return -1\n",
        "  else:\n",
        "    return 0\n",
        "\n",
        "def max_V_on_next_state(s):\n",
        "  # If game end, expected value is 0.\n",
        "  if s in [\"happy_end\", \"bad_end\"]:\n",
        "    return 0\n",
        "  \n",
        "  actions = [\"up\", \"down\"]\n",
        "  values = []\n",
        "  for a in actions:\n",
        "    transition_probs = transit_func(s, a)\n",
        "    v = 0\n",
        "    for next_state in transition_probs:\n",
        "      prob = transition_probs[next_state]\n",
        "      v += prob * V(next_state)\n",
        "    values.append(v)\n",
        "  return max(values)"
      ],
      "execution_count": 0,
      "outputs": []
    },
    {
      "metadata": {
        "id": "mRh74KflP7rq",
        "colab_type": "code",
        "colab": {}
      },
      "cell_type": "code",
      "source": [
        "def transit_func(s, a):\n",
        "  \"\"\"\n",
        "  Make next state by adding action str to state.\n",
        "  ex:(s = 'state', a = 'up') => 'state_up'\n",
        "     (s = 'state_up', a = 'down') => 'state_up_down'\n",
        "  \"\"\"\n",
        "  \n",
        "  actions = s.split(\"_\")[1:]\n",
        "  LIMIT_GAME_COUNT = 5\n",
        "  HAPPY_END_BORDER = 4\n",
        "  MOVE_PROB = 0.9\n",
        "  \n",
        "  def next_state(state, action):\n",
        "    return \"_\".join([state, action])\n",
        "  \n",
        "  if len(actions) == LIMIT_GAME_COUNT:\n",
        "    up_count = sum([1 if a == \"up\" else 0 for a in  actions])\n",
        "    state = \"happy_end\" if up_count >= HAPPY_END_BORDER else \"bad_end\"\n",
        "    prob = 1.0\n",
        "    return {state: prob}\n",
        "  else:\n",
        "    opposite = \"up\" if a == \"down\" else \"down\"\n",
        "    return {\n",
        "        next_state(s, a): MOVE_PROB,\n",
        "        next_state(s, opposite): 1- MOVE_PROB\n",
        "    }"
      ],
      "execution_count": 0,
      "outputs": []
    },
    {
      "metadata": {
        "id": "NgO44sZMaFLg",
        "colab_type": "code",
        "outputId": "75ab473a-baee-42ff-ccc2-310ebd4501ae",
        "colab": {
          "base_uri": "https://localhost:8080/",
          "height": 85
        }
      },
      "cell_type": "code",
      "source": [
        "if __name__ == \"__main__\":\n",
        "  print(V(\"state\"))\n",
        "  print(V(\"state_up_up\"))\n",
        "  print(V(\"state_down_down\"))\n",
        "  print(V(\"state_up_up_up\"))"
      ],
      "execution_count": 0,
      "outputs": [
        {
          "output_type": "stream",
          "text": [
            "0.7880942034605892\n",
            "0.9068026334400001\n",
            "-0.96059601\n",
            "0.9508930200000001\n"
          ],
          "name": "stdout"
        }
      ]
    },
    {
      "metadata": {
        "id": "4YQemvPJajzt",
        "colab_type": "code",
        "colab": {}
      },
      "cell_type": "code",
      "source": [
        "class Planner():\n",
        "  \n",
        "  def __init__(self, env):\n",
        "    self.env = env\n",
        "    self.log = []\n",
        "    \n",
        "  def initialize(self):\n",
        "    self.env.reset()\n",
        "    self.log = []\n",
        "    \n",
        "  def plan(self, gamma=0.9, threshold=0.0001):\n",
        "    raise Exception(\"Planner have to implements plan method.\")\n",
        "    \n",
        "  def transitions_at(self, state, action):\n",
        "    transition_probs = self.env.transit_func(state, action)\n",
        "    for next_state in transition_probs:\n",
        "      prob = transtion_probs[next_state]\n",
        "      reward, _ = self.env.reward_func(next_state)\n",
        "      yield prob, next_state, reward\n",
        "      \n",
        "  def dict_to_grid(self, state_reward_dict):\n",
        "    grid = []\n",
        "    for i in range(self.env.column_length):\n",
        "      row = [0] * self.env.column_length\n",
        "      grid.append(row)\n",
        "    for s in state_reward_dict:\n",
        "      grid[s.row][s.column] = state_reward_dict[s]\n",
        "    \n",
        "    return grid"
      ],
      "execution_count": 0,
      "outputs": []
    },
    {
      "metadata": {
        "id": "MNe8PgzkuTcI",
        "colab_type": "code",
        "colab": {}
      },
      "cell_type": "code",
      "source": [
        ""
      ],
      "execution_count": 0,
      "outputs": []
    }
  ]
}